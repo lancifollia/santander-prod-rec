{
 "cells": [
  {
   "cell_type": "code",
   "execution_count": 20,
   "metadata": {
    "collapsed": true
   },
   "outputs": [],
   "source": [
    "import os\n",
    "import sys\n",
    "import numpy as np\n",
    "import pandas as pd"
   ]
  },
  {
   "cell_type": "code",
   "execution_count": 21,
   "metadata": {
    "collapsed": true
   },
   "outputs": [],
   "source": [
    "import logging\n",
    "import logging.handlers\n",
    "logger = logging.getLogger('feature_creator')\n",
    "if not logging.handlers:\n",
    "    logger.setLevel(logging.DEBUG)\n",
    "    sh = logging.StreamHandler(sys.stdout)  # for jupyter notebook\n",
    "    sh.setLevel(logging.DEBUG)\n",
    "    formatter = logging.Formatter('[%(levelname)-8s] %(asctime)s [%(filename)s] [%(funcName)s:%(lineno)d] %(message)s', '%Y-%m-%d %H:%M:%S')\n",
    "    sh.setFormatter(formatter)\n",
    "    logger.addHandler(sh)"
   ]
  },
  {
   "cell_type": "markdown",
   "metadata": {},
   "source": [
    "## Constants"
   ]
  },
  {
   "cell_type": "code",
   "execution_count": 22,
   "metadata": {
    "collapsed": true
   },
   "outputs": [],
   "source": [
    "TRAIN = 'train'\n",
    "TEST = 'test'\n",
    "VALIDATION = 'validation'"
   ]
  },
  {
   "cell_type": "markdown",
   "metadata": {},
   "source": [
    "## Configurations"
   ]
  },
  {
   "cell_type": "code",
   "execution_count": 23,
   "metadata": {
    "collapsed": true
   },
   "outputs": [],
   "source": [
    "# Summary type (for training, validation or testing)\n",
    "summary_type = [TRAIN, VALIDATION, TEST][0]\n",
    "\n",
    "# Process only part of the data?\n",
    "process_fraction = False\n",
    "\n",
    "# Months before test period to be considered in train features - default 0\n",
    "# Multiple months are considered!\n",
    "train_back_periods = range(15,-1,-1) #  13:0 trainBackPeriods 0 for train === validation!\n",
    "save_by_month = True # Always TRUE going forward\n",
    "max_records_save_batch = 2e6\n",
    "\n",
    "\n",
    "# Option to limit the summary period to a fixed month window\n",
    "max_summary_months = np.inf # Always Inf going forward\n",
    "test_summary_months = range(16, 0, -1) # 16:1 #16:5 #16:3 #5 #17 # If not saveByMonth: consider first as lag\n",
    "validation_back_months = 10 # 0 is default (validate May 16). 11 is Jun 15\n",
    "validation_summary_months = range(15 - validation_back_months, 0, -1) # Default: 15:1 for May 16; 14:1 for Apr 16, ..."
   ]
  },
  {
   "cell_type": "markdown",
   "metadata": {},
   "source": [
    "### Configurations - file path"
   ]
  },
  {
   "cell_type": "code",
   "execution_count": 24,
   "metadata": {
    "collapsed": true
   },
   "outputs": [],
   "source": [
    "data_dir = '../../rsc/data/'\n",
    "feature_eng_dir = '../../rsc/feature_engineering'\n",
    "feature_dir_root = '../../feature/'\n",
    "version = '2017-04-29'\n",
    "feature_dir = os.path.join(feature_dir_root, version)"
   ]
  },
  {
   "cell_type": "markdown",
   "metadata": {},
   "source": [
    "### Configurations - less used settings"
   ]
  },
  {
   "cell_type": "code",
   "execution_count": 25,
   "metadata": {
    "collapsed": true
   },
   "outputs": [],
   "source": [
    "fraction_type = ['random', 'order'][1]\n",
    "fraction_flag = '%s_%s' % ('small', fraction_type) if process_fraction else 'nofrac'\n",
    "train_back_periods = sorted(train_back_periods)\n",
    "\n",
    "if summary_type == VALIDATION:\n",
    "    train_back_periods = [validation_back_months] * max(1, len(validation_summary_months))\n",
    "elif summary_type == TEST:\n",
    "    train_back_periods = [0] * max(1, len(test_summary_months))\n",
    "\n",
    "train_back_string = '%s_%s' % ('back', train_back_periods[-1]) if summary_type != TEST else 'nobackstr'"
   ]
  },
  {
   "cell_type": "code",
   "execution_count": 26,
   "metadata": {},
   "outputs": [],
   "source": [
    "folder_path = os.path.join(feature_dir, '__'.join([summary_type, fraction_flag]))\n",
    "if summary_type == VALIDATION:\n",
    "    folder_path = os.path.join(folder_path, '__'.join(['back', validation_back_months]))\n",
    "logger.info('Working directory: %s' % folder_path)\n",
    "if not os.path.isdir(folder_path):\n",
    "    os.makedirs(folder_path)"
   ]
  },
  {
   "cell_type": "code",
   "execution_count": 27,
   "metadata": {
    "collapsed": true
   },
   "outputs": [],
   "source": [
    "# Feature mapping file name\n",
    "feature_map_fname = \"feature_mapping.csv\"\n",
    "\n",
    "# Family incomes file name\n",
    "family_income_fname = \"family_incomes.csv\"\n",
    "\n",
    "# Mean log province incomes file name\n",
    "mean_province_income_fname = \"province_incomes.csv\"\n",
    "\n",
    "# Client available ids file names for May and June 2015\n",
    "clients_may_15_fname = \"may_15_clients.csv\"\n",
    "clients_june_15_fname = \"june_15_clients.csv\"\n",
    "\n",
    "# Client ids with at least one positive flank between Jan 15 and May 16\n",
    "clients_pos_flank_fname = \"positive_flank_clients.csv\"\n",
    "\n",
    "# Target variable constants\n",
    "# Question: why (1, 2, 3, 4, 5, 6, 12) ?\n",
    "raw_data_lags = [1, 2, 3, 4, 5, 6, 12]\n",
    "\n",
    "# Count the number of products as well as the number of positive and negative \n",
    "# flanks in the flanks period\n",
    "flanks_period = np.inf\n",
    "\n",
    "# Months back product summary periods\n",
    "months_back_trans_counts = [1, 2, 3, 4, 5, 6, 12] # These must appear in rawDataLags\n",
    "months_back_prod_counts = [1, 2, 3, 4, 5, 6, 12]"
   ]
  },
  {
   "cell_type": "markdown",
   "metadata": {},
   "source": [
    "## Create features"
   ]
  },
  {
   "cell_type": "code",
   "execution_count": 28,
   "metadata": {},
   "outputs": [],
   "source": [
    "# Read in the raw cleaned data\n",
    "if summary_type == TEST:\n",
    "    train_part = pd.read_csv(os.path.join(data_dir, ('train_%s.csv' % fraction_flag)))\n",
    "    test_part = pd.read_csv(os.path.join(data_dir, ('test_%s.csv' % fraction_flag)))  \n",
    "    # Combine the train and test records\n",
    "    raw_data = train_part.append(test_part, ignore_index=True)\n",
    "else:\n",
    "    # Drop the last trainBackPeriod months\n",
    "    raw_data = pd.read_csv(os.path.join(data_dir, ('train_%s.csv' % fraction_flag)))\n",
    "\n",
    "# Load the estimated relative map contributions\n",
    "#mapContributions <- readRDS(file.path(getwd(), targetDate,\n",
    "#                                      \"monthlyMAPContributions.rds\"))\n",
    "\n",
    "# Store the original raw data before applying modifications\n",
    "raw_data_orig = raw_data.copy()\n",
    "\n",
    "# Keep track of the number of feature records\n",
    "feature_records_counter = []"
   ]
  },
  {
   "cell_type": "markdown",
   "metadata": {},
   "source": [
    "## For loop"
   ]
  },
  {
   "cell_type": "code",
   "execution_count": 29,
   "metadata": {
    "collapsed": true
   },
   "outputs": [],
   "source": [
    "# TODO: should be in for-loop\n",
    "train_back_id = 0\n",
    "train_back_period = train_back_periods[train_back_id]"
   ]
  },
  {
   "cell_type": "code",
   "execution_count": 30,
   "metadata": {},
   "outputs": [],
   "source": [
    "logger.info('Processing period %d of %d for %s' % (train_back_id, len(train_back_periods), summary_type))"
   ]
  },
  {
   "cell_type": "code",
   "execution_count": 31,
   "metadata": {
    "collapsed": true
   },
   "outputs": [],
   "source": [
    "# Set the raw data to the original raw data since rawData is modified in\n",
    "# each train back iteration\n",
    "if summary_type == TEST:\n",
    "    raw_data = raw_data_orig.copy()\n",
    "else:\n",
    "    # Drop the last trainBackPeriod months\n",
    "    last_month = sorted(raw_data_orig.fecha_dato.unique(), reverse=True)[train_back_period]\n",
    "    raw_data = raw_data_orig[raw_data_orig.fecha_dato <= last_month]"
   ]
  },
  {
   "cell_type": "code",
   "execution_count": 32,
   "metadata": {},
   "outputs": [
    {
     "name": "stdout",
     "output_type": "stream",
     "text": [
      "(13502875, 48)\n"
     ]
    }
   ],
   "source": [
    "# Drop customers that don't have data in the month prior to the targeted \n",
    "# period Or in the month of the target period itself\n",
    "data_months = sorted(raw_data.fecha_dato.unique(), reverse=True)\n",
    "data_months_vec = data_months\n",
    "for i in [0, 1]:\n",
    "    raw_data = raw_data[raw_data.ncodpers.isin(raw_data[raw_data.fecha_dato==data_months[i]].ncodpers.unique())]\n",
    "print raw_data.shape"
   ]
  },
  {
   "cell_type": "code",
   "execution_count": 33,
   "metadata": {
    "collapsed": true
   },
   "outputs": [],
   "source": [
    "# Restrict the raw data optionally to the last maxSummaryMonths\n",
    "if summary_type == TRAIN:\n",
    "    if np.isfinite(max_summary_months) and max_summary_months < (len(data_months) - 1):\n",
    "        raw_data = raw_data[raw_data.fecha_dato >= data_months[max_summary_months]]\n",
    "else:\n",
    "    if summary_type == VALIDATION:\n",
    "        period_lag_months = validation_summary_months[train_back_id]\n",
    "    else:\n",
    "        period_lag_months = test_summary_months[train_back_id]\n",
    "        \n",
    "    if np.isfinite(period_lag_months) and period_lag_months < (len(data_months)-1):\n",
    "        raw_data = raw_data[raw_data.fecha_dato >= dataMonths[periodLagMonths + 1]]\n",
    "    # Skip stagnant feature"
   ]
  },
  {
   "cell_type": "code",
   "execution_count": 34,
   "metadata": {
    "collapsed": true
   },
   "outputs": [],
   "source": [
    "# Set up the save path variables\n",
    "num_data_months = len(raw_data.fecha_dato.unique())\n",
    "lag_period_extension = '_'.join(['lag', str(num_data_months - 1)])\n",
    "train_back_string = '_'.join(['back', str(train_back_period)]) if summary_type == TRAIN else 'nobackstr'\n",
    "save_extension = '__'.join([train_back_string, lag_period_extension])"
   ]
  },
  {
   "cell_type": "markdown",
   "metadata": {},
   "source": [
    "### Section 1: Add predictor related features"
   ]
  },
  {
   "cell_type": "code",
   "execution_count": 98,
   "metadata": {},
   "outputs": [],
   "source": [
    "def month_diff(s):\n",
    "    s2 = s.apply(lambda v: v.year * 12 + v.month)\n",
    "    return sum(s2.diff().fillna(1.0) != 1.0)\n",
    "\n",
    "raw_data.fecha_dato = pd.to_datetime(raw_data.fecha_dato,format=\"%Y-%m-%d\")\n",
    "month_features = pd.DataFrame({'data_months': raw_data.groupby(['ncodpers']).size(),\n",
    "                               'gaps': raw_data.groupby(['ncodpers']).fecha_dato.apply(month_diff)\n",
    "                               })\n",
    "month_features['months_frac'] = (month_features.data_months - 2) / (len(data_months) - 2)\n",
    "month_features['gaps_frac'] = month_features.gaps / (len(data_months) - 2)\n",
    "month_features['last_date'] = data_months_vec[0]\n",
    "\n",
    "features = month_features"
   ]
  },
  {
   "cell_type": "code",
   "execution_count": null,
   "metadata": {
    "collapsed": true
   },
   "outputs": [],
   "source": []
  }
 ],
 "metadata": {
  "kernelspec": {
   "display_name": "Python 2",
   "language": "python",
   "name": "python2"
  },
  "language_info": {
   "codemirror_mode": {
    "name": "ipython",
    "version": 2
   },
   "file_extension": ".py",
   "mimetype": "text/x-python",
   "name": "python",
   "nbconvert_exporter": "python",
   "pygments_lexer": "ipython2",
   "version": "2.7.12"
  }
 },
 "nbformat": 4,
 "nbformat_minor": 2
}
